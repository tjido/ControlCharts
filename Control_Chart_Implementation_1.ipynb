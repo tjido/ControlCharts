{
  "nbformat": 4,
  "nbformat_minor": 0,
  "metadata": {
    "colab": {
      "name": "Control Chart_Implementation 1",
      "provenance": [],
      "collapsed_sections": [],
      "authorship_tag": "ABX9TyP5h4AaidsMb2Be48RdBuf5",
      "include_colab_link": true
    },
    "kernelspec": {
      "name": "python3",
      "display_name": "Python 3"
    }
  },
  "cells": [
    {
      "cell_type": "markdown",
      "metadata": {
        "id": "view-in-github",
        "colab_type": "text"
      },
      "source": [
        "<a href=\"https://colab.research.google.com/github/tjido/ControlCharts/blob/master/Control_Chart_Implementation_1.ipynb\" target=\"_parent\"><img src=\"https://colab.research.google.com/assets/colab-badge.svg\" alt=\"Open In Colab\"/></a>"
      ]
    },
    {
      "cell_type": "markdown",
      "metadata": {
        "id": "TxYTWWAHF53i",
        "colab_type": "text"
      },
      "source": [
        "# Control Chart_Python Implementation 1"
      ]
    },
    {
      "cell_type": "markdown",
      "metadata": {
        "id": "qV0vz5rCt62C",
        "colab_type": "text"
      },
      "source": [
        "This script takes a date input and creates a Control Chart. This is done in a python cloud environment using a Jupiter notebook in Google Colab.\n",
        "\n",
        "Contact: Shingai Manjengwa, Technical Education Specialist, Vector Institute (Twitter: @Tjido)\n"
      ]
    },
    {
      "cell_type": "markdown",
      "metadata": {
        "id": "UF7UEPzQ5jW7",
        "colab_type": "text"
      },
      "source": [
        "This work is part of a research paper by Shingai Manjengwa: 'Visualizing a Disruption, using Control Charts to understand the impact of Covid19.'"
      ]
    },
    {
      "cell_type": "code",
      "metadata": {
        "id": "igvthRHhF53i",
        "colab_type": "code",
        "outputId": "aec82a23-16a2-4a54-c566-c5e067b0b3fe",
        "colab": {
          "base_uri": "https://localhost:8080/",
          "height": 704
        }
      },
      "source": [
        "#Import relevant packages\n",
        "\n",
        "import pandas as pd\n",
        "import plotly.graph_objects as go\n",
        "import datetime\n",
        "\n",
        "#Load the dataset\n",
        "url = 'https://raw.githubusercontent.com/tjido/ControlCharts/master/US_CIVPART_01042020.csv' \n",
        "df_data = pd.read_csv(url)\n",
        "\n",
        "df_data.head()\n",
        "\n",
        "#Manage the date format\n",
        "\n",
        "while True:\n",
        "    date_entry = input('Enter the disruption date in the format YYYY-MM-DD: ')\n",
        "    year, month, day = map(int, date_entry.split('-'))\n",
        "    date1 = datetime.date(year, month, day)\n",
        "    value_found = False\n",
        "    for a in range(len(df_data)):\n",
        "        if df_data['Date'][a] ==str(date1):\n",
        "            print(a)\n",
        "            date_value = a\n",
        "            value_found=True\n",
        "            break\n",
        "        \n",
        "    if value_found==True:\n",
        "        print('Thank you! ')\n",
        "        break\n",
        "        break\n",
        "    else:\n",
        "        print('Kindly Enter the date again, As you entered an invalid date')\n",
        "\n",
        "#Set the standard deviation\n",
        "standard_deviation_level = 1 \n",
        "\n",
        "#Compute the Upper Control Limit, Lower Control Limit and the Mean\n",
        "UCL_a  = df_data['CIVPART'][:int(date_value)].mean()+(standard_deviation_level*df_data['CIVPART'][:int(date_value)].std()) #a UCL\n",
        "LCL_a  = df_data['CIVPART'][:int(date_value)].mean()-(standard_deviation_level*df_data['CIVPART'][:int(date_value)].std()) #a LCL\n",
        "MEAN_a = df_data['CIVPART'][:int(date_value)].mean() #Overall Mean\n",
        "\n",
        "UCL_data_y = [UCL_a]*len(df_data['Date'] ) #make list equal to number of data with UCL\n",
        "LCL_data_y = [LCL_a]*len(df_data['Date']) #make list equal to number of data with LCL\n",
        "MEAN_data_y = [MEAN_a]*len(df_data['Date']) #make list equal to number of data with MEAN\n",
        "\n",
        "UCL_afterline  = df_data['CIVPART'][int(date_value):].mean()+(standard_deviation_level*df_data['CIVPART'][int(date_value):].std()) #UCL after line\n",
        "LCL_afterline  = df_data['CIVPART'][int(date_value):].mean()-(standard_deviation_level*df_data['CIVPART'][int(date_value):].std()) #LCL after line\n",
        "Mean_afterline  = df_data['CIVPART'][int(date_value):].mean() #Mean after line\n",
        "\n",
        "\n",
        "UCL_data_y[int(date_value):] = [UCL_afterline]*len(UCL_data_y[int(date_value):]) #Replace UCL after line data with new values\n",
        "LCL_data_y[int(date_value):] = [LCL_afterline]*len(LCL_data_y[int(date_value):]) #Replace  LCL after line data with new values\n",
        "MEAN_data_y[int(date_value):] = [Mean_afterline]*len(MEAN_data_y[int(date_value):]) #Replace MEAN after line data with new values\n",
        "\n",
        "df_data['UCL'] = UCL_data_y\n",
        "df_data['LCL'] = LCL_data_y\n",
        "df_data['MEAN'] = MEAN_data_y\n",
        "\n",
        "#Set formatting of point outside the standard deviation\n",
        "df_color = []\n",
        "for a in range(len(df_data)):\n",
        "    if df_data['CIVPART'][a]>df_data['UCL'][a]:\n",
        "        df_color.append('Red')\n",
        "    elif df_data['CIVPART'][a]<df_data['LCL'][a]:\n",
        "        df_color.append('Red')\n",
        "    else:\n",
        "        df_color.append('Blue')\n",
        "        \n",
        "        \n",
        "#Set formatting, axis labels and heading\n",
        "df_data['color'] = df_color\n",
        "\n",
        "fig = go.Figure()\n",
        "fig.add_trace(go.Scatter(x=df_data['Date'], y=df_data['CIVPART'],marker_color=df_color,\n",
        "                    mode='lines+markers',\n",
        "                    name='Labor_Force_Participation',)) #Display CIVPART data \n",
        "fig.add_trace(go.Scatter(x=df_data['Date'] ,y=UCL_data_y,\n",
        "                    mode='lines', name='UCL',line=dict(color='red', width=2))) #UCL Line\n",
        "fig.add_trace(go.Scatter(x=df_data['Date'] ,y=LCL_data_y,\n",
        "                    mode='lines', name='LCL',line=dict(color='red', width=2))) #LCL Line\n",
        "fig.add_trace(go.Scatter(x=df_data['Date'] ,y=MEAN_data_y,\n",
        "                    mode='lines', name='Mean',line=dict(color='green', width=4))) #MEAN Line\n",
        "\n",
        "#Insert  custom vertical line at point of disruption\n",
        "fig.update_layout( \n",
        "    shapes=[\n",
        "    dict(\n",
        "      type= 'line',\n",
        "      yref= 'paper', y0= 0, y1= 1,\n",
        "      xref= 'x', x0=df_data['Date'][int(date_value)-1],x1=df_data['Date'][int(date_value)-1], ##Set the line at user specified date\n",
        "        line=dict(\n",
        "                color=\"black\",\n",
        "                width=3,\n",
        "                dash=\"dot\",\n",
        "            )\n",
        "    )\n",
        "],\n",
        "autosize=True,\n",
        "    height=600,\n",
        "    title=\"Labor Force Participation, April 2020\",\n",
        "    xaxis_title=\"Date\",\n",
        "    yaxis_title=\"% Participation\",\n",
        "    \n",
        "    margin=dict(\n",
        "        l=10,\n",
        "        r=50,\n",
        "        b=50,\n",
        "        t=100,\n",
        "        pad=4\n",
        "    ),\n",
        "    font=dict(\n",
        "        family=\"Amiri\",\n",
        "    ),\n",
        "    paper_bgcolor=\"LightSteelBlue\",\n",
        "\n",
        ")\n",
        "\n",
        "#Write output to HTML\n",
        "fig.show()\n",
        "fig.write_html('Control Chart Visualization_1.html') \n",
        "\n",
        "\n",
        "\n"
      ],
      "execution_count": 8,
      "outputs": [
        {
          "output_type": "stream",
          "text": [
            "Enter the disruption date in the format YYYY-MM-DD: 2015-01-01\n",
            "Kindly Enter the date again, As you entered an invalid date\n",
            "Enter the disruption date in the format YYYY-MM-DD: 2017-01-01\n",
            "21\n",
            "Thank you! \n"
          ],
          "name": "stdout"
        },
        {
          "output_type": "display_data",
          "data": {
            "text/html": [
              "<html>\n",
              "<head><meta charset=\"utf-8\" /></head>\n",
              "<body>\n",
              "    <div>\n",
              "            <script src=\"https://cdnjs.cloudflare.com/ajax/libs/mathjax/2.7.5/MathJax.js?config=TeX-AMS-MML_SVG\"></script><script type=\"text/javascript\">if (window.MathJax) {MathJax.Hub.Config({SVG: {font: \"STIX-Web\"}});}</script>\n",
              "                <script type=\"text/javascript\">window.PlotlyConfig = {MathJaxConfig: 'local'};</script>\n",
              "        <script src=\"https://cdn.plot.ly/plotly-latest.min.js\"></script>    \n",
              "            <div id=\"3d4648b5-5f79-4d15-8aad-b87f18cc9375\" class=\"plotly-graph-div\" style=\"height:600px; width:100%;\"></div>\n",
              "            <script type=\"text/javascript\">\n",
              "                \n",
              "                    window.PLOTLYENV=window.PLOTLYENV || {};\n",
              "                    \n",
              "                if (document.getElementById(\"3d4648b5-5f79-4d15-8aad-b87f18cc9375\")) {\n",
              "                    Plotly.newPlot(\n",
              "                        '3d4648b5-5f79-4d15-8aad-b87f18cc9375',\n",
              "                        [{\"marker\": {\"color\": [\"Blue\", \"Red\", \"Blue\", \"Blue\", \"Blue\", \"Red\", \"Red\", \"Red\", \"Blue\", \"Blue\", \"Blue\", \"Red\", \"Blue\", \"Blue\", \"Blue\", \"Blue\", \"Red\", \"Red\", \"Blue\", \"Blue\", \"Blue\", \"Blue\", \"Blue\", \"Blue\", \"Blue\", \"Blue\", \"Blue\", \"Blue\", \"Blue\", \"Blue\", \"Blue\", \"Blue\", \"Blue\", \"Blue\", \"Blue\", \"Blue\", \"Blue\", \"Blue\", \"Blue\", \"Blue\", \"Blue\", \"Blue\", \"Blue\", \"Blue\", \"Blue\", \"Blue\", \"Blue\", \"Blue\", \"Blue\", \"Blue\", \"Blue\", \"Blue\", \"Blue\", \"Blue\", \"Blue\", \"Blue\", \"Blue\", \"Red\", \"Red\", \"Blue\", \"Red\"]}, \"mode\": \"lines+markers\", \"name\": \"Labor_Force_Participation\", \"type\": \"scatter\", \"x\": [\"2015-04-01\", \"2015-05-01\", \"2015-06-01\", \"2015-07-01\", \"2015-08-01\", \"2015-09-01\", \"2015-10-01\", \"2015-11-01\", \"2015-12-01\", \"2016-01-01\", \"2016-02-01\", \"2016-03-01\", \"2016-04-01\", \"2016-05-01\", \"2016-06-01\", \"2016-07-01\", \"2016-08-01\", \"2016-09-01\", \"2016-10-01\", \"2016-11-01\", \"2016-12-01\", \"2017-01-01\", \"2017-02-01\", \"2017-03-01\", \"2017-04-01\", \"2017-05-01\", \"2017-06-01\", \"2017-07-01\", \"2017-08-01\", \"2017-09-01\", \"2017-10-01\", \"2017-11-01\", \"2017-12-01\", \"2018-01-01\", \"2018-02-01\", \"2018-03-01\", \"2018-04-01\", \"2018-05-01\", \"2018-06-01\", \"2018-07-01\", \"2018-08-01\", \"2018-09-01\", \"2018-10-01\", \"2018-11-01\", \"2018-12-01\", \"2019-01-01\", \"2019-02-01\", \"2019-03-01\", \"2019-04-01\", \"2019-05-01\", \"2019-06-01\", \"2019-07-01\", \"2019-08-01\", \"2019-09-01\", \"2019-10-01\", \"2019-11-01\", \"2019-12-01\", \"2020-01-01\", \"2020-02-01\", \"2020-03-01\", \"2020-04-01\"], \"y\": [62.8, 62.9, 62.7, 62.6, 62.6, 62.4, 62.5, 62.5, 62.7, 62.7, 62.8, 62.9, 62.8, 62.7, 62.7, 62.7, 62.9, 62.9, 62.8, 62.7, 62.7, 62.8, 62.8, 62.9, 63.0, 62.8, 62.8, 62.8, 62.9, 63.1, 62.7, 62.7, 62.7, 62.7, 63.0, 62.9, 62.9, 62.9, 63.0, 62.9, 62.7, 62.8, 62.9, 62.9, 63.0, 63.2, 63.1, 63.0, 62.8, 62.9, 63.0, 63.0, 63.2, 63.2, 63.3, 63.2, 63.2, 63.4, 63.4, 62.7, 60.2]}, {\"line\": {\"color\": \"red\", \"width\": 2}, \"mode\": \"lines\", \"name\": \"UCL\", \"type\": \"scatter\", \"x\": [\"2015-04-01\", \"2015-05-01\", \"2015-06-01\", \"2015-07-01\", \"2015-08-01\", \"2015-09-01\", \"2015-10-01\", \"2015-11-01\", \"2015-12-01\", \"2016-01-01\", \"2016-02-01\", \"2016-03-01\", \"2016-04-01\", \"2016-05-01\", \"2016-06-01\", \"2016-07-01\", \"2016-08-01\", \"2016-09-01\", \"2016-10-01\", \"2016-11-01\", \"2016-12-01\", \"2017-01-01\", \"2017-02-01\", \"2017-03-01\", \"2017-04-01\", \"2017-05-01\", \"2017-06-01\", \"2017-07-01\", \"2017-08-01\", \"2017-09-01\", \"2017-10-01\", \"2017-11-01\", \"2017-12-01\", \"2018-01-01\", \"2018-02-01\", \"2018-03-01\", \"2018-04-01\", \"2018-05-01\", \"2018-06-01\", \"2018-07-01\", \"2018-08-01\", \"2018-09-01\", \"2018-10-01\", \"2018-11-01\", \"2018-12-01\", \"2019-01-01\", \"2019-02-01\", \"2019-03-01\", \"2019-04-01\", \"2019-05-01\", \"2019-06-01\", \"2019-07-01\", \"2019-08-01\", \"2019-09-01\", \"2019-10-01\", \"2019-11-01\", \"2019-12-01\", \"2020-01-01\", \"2020-02-01\", \"2020-03-01\", \"2020-04-01\"], \"y\": [62.853158729251604, 62.853158729251604, 62.853158729251604, 62.853158729251604, 62.853158729251604, 62.853158729251604, 62.853158729251604, 62.853158729251604, 62.853158729251604, 62.853158729251604, 62.853158729251604, 62.853158729251604, 62.853158729251604, 62.853158729251604, 62.853158729251604, 62.853158729251604, 62.853158729251604, 62.853158729251604, 62.853158729251604, 62.853158729251604, 62.853158729251604, 63.36139134957377, 63.36139134957377, 63.36139134957377, 63.36139134957377, 63.36139134957377, 63.36139134957377, 63.36139134957377, 63.36139134957377, 63.36139134957377, 63.36139134957377, 63.36139134957377, 63.36139134957377, 63.36139134957377, 63.36139134957377, 63.36139134957377, 63.36139134957377, 63.36139134957377, 63.36139134957377, 63.36139134957377, 63.36139134957377, 63.36139134957377, 63.36139134957377, 63.36139134957377, 63.36139134957377, 63.36139134957377, 63.36139134957377, 63.36139134957377, 63.36139134957377, 63.36139134957377, 63.36139134957377, 63.36139134957377, 63.36139134957377, 63.36139134957377, 63.36139134957377, 63.36139134957377, 63.36139134957377, 63.36139134957377, 63.36139134957377, 63.36139134957377, 63.36139134957377]}, {\"line\": {\"color\": \"red\", \"width\": 2}, \"mode\": \"lines\", \"name\": \"LCL\", \"type\": \"scatter\", \"x\": [\"2015-04-01\", \"2015-05-01\", \"2015-06-01\", \"2015-07-01\", \"2015-08-01\", \"2015-09-01\", \"2015-10-01\", \"2015-11-01\", \"2015-12-01\", \"2016-01-01\", \"2016-02-01\", \"2016-03-01\", \"2016-04-01\", \"2016-05-01\", \"2016-06-01\", \"2016-07-01\", \"2016-08-01\", \"2016-09-01\", \"2016-10-01\", \"2016-11-01\", \"2016-12-01\", \"2017-01-01\", \"2017-02-01\", \"2017-03-01\", \"2017-04-01\", \"2017-05-01\", \"2017-06-01\", \"2017-07-01\", \"2017-08-01\", \"2017-09-01\", \"2017-10-01\", \"2017-11-01\", \"2017-12-01\", \"2018-01-01\", \"2018-02-01\", \"2018-03-01\", \"2018-04-01\", \"2018-05-01\", \"2018-06-01\", \"2018-07-01\", \"2018-08-01\", \"2018-09-01\", \"2018-10-01\", \"2018-11-01\", \"2018-12-01\", \"2019-01-01\", \"2019-02-01\", \"2019-03-01\", \"2019-04-01\", \"2019-05-01\", \"2019-06-01\", \"2019-07-01\", \"2019-08-01\", \"2019-09-01\", \"2019-10-01\", \"2019-11-01\", \"2019-12-01\", \"2020-01-01\", \"2020-02-01\", \"2020-03-01\", \"2020-04-01\"], \"y\": [62.57541269931984, 62.57541269931984, 62.57541269931984, 62.57541269931984, 62.57541269931984, 62.57541269931984, 62.57541269931984, 62.57541269931984, 62.57541269931984, 62.57541269931984, 62.57541269931984, 62.57541269931984, 62.57541269931984, 62.57541269931984, 62.57541269931984, 62.57541269931984, 62.57541269931984, 62.57541269931984, 62.57541269931984, 62.57541269931984, 62.57541269931984, 62.40860865042624, 62.40860865042624, 62.40860865042624, 62.40860865042624, 62.40860865042624, 62.40860865042624, 62.40860865042624, 62.40860865042624, 62.40860865042624, 62.40860865042624, 62.40860865042624, 62.40860865042624, 62.40860865042624, 62.40860865042624, 62.40860865042624, 62.40860865042624, 62.40860865042624, 62.40860865042624, 62.40860865042624, 62.40860865042624, 62.40860865042624, 62.40860865042624, 62.40860865042624, 62.40860865042624, 62.40860865042624, 62.40860865042624, 62.40860865042624, 62.40860865042624, 62.40860865042624, 62.40860865042624, 62.40860865042624, 62.40860865042624, 62.40860865042624, 62.40860865042624, 62.40860865042624, 62.40860865042624, 62.40860865042624, 62.40860865042624, 62.40860865042624, 62.40860865042624]}, {\"line\": {\"color\": \"green\", \"width\": 4}, \"mode\": \"lines\", \"name\": \"Mean\", \"type\": \"scatter\", \"x\": [\"2015-04-01\", \"2015-05-01\", \"2015-06-01\", \"2015-07-01\", \"2015-08-01\", \"2015-09-01\", \"2015-10-01\", \"2015-11-01\", \"2015-12-01\", \"2016-01-01\", \"2016-02-01\", \"2016-03-01\", \"2016-04-01\", \"2016-05-01\", \"2016-06-01\", \"2016-07-01\", \"2016-08-01\", \"2016-09-01\", \"2016-10-01\", \"2016-11-01\", \"2016-12-01\", \"2017-01-01\", \"2017-02-01\", \"2017-03-01\", \"2017-04-01\", \"2017-05-01\", \"2017-06-01\", \"2017-07-01\", \"2017-08-01\", \"2017-09-01\", \"2017-10-01\", \"2017-11-01\", \"2017-12-01\", \"2018-01-01\", \"2018-02-01\", \"2018-03-01\", \"2018-04-01\", \"2018-05-01\", \"2018-06-01\", \"2018-07-01\", \"2018-08-01\", \"2018-09-01\", \"2018-10-01\", \"2018-11-01\", \"2018-12-01\", \"2019-01-01\", \"2019-02-01\", \"2019-03-01\", \"2019-04-01\", \"2019-05-01\", \"2019-06-01\", \"2019-07-01\", \"2019-08-01\", \"2019-09-01\", \"2019-10-01\", \"2019-11-01\", \"2019-12-01\", \"2020-01-01\", \"2020-02-01\", \"2020-03-01\", \"2020-04-01\"], \"y\": [62.71428571428572, 62.71428571428572, 62.71428571428572, 62.71428571428572, 62.71428571428572, 62.71428571428572, 62.71428571428572, 62.71428571428572, 62.71428571428572, 62.71428571428572, 62.71428571428572, 62.71428571428572, 62.71428571428572, 62.71428571428572, 62.71428571428572, 62.71428571428572, 62.71428571428572, 62.71428571428572, 62.71428571428572, 62.71428571428572, 62.71428571428572, 62.885000000000005, 62.885000000000005, 62.885000000000005, 62.885000000000005, 62.885000000000005, 62.885000000000005, 62.885000000000005, 62.885000000000005, 62.885000000000005, 62.885000000000005, 62.885000000000005, 62.885000000000005, 62.885000000000005, 62.885000000000005, 62.885000000000005, 62.885000000000005, 62.885000000000005, 62.885000000000005, 62.885000000000005, 62.885000000000005, 62.885000000000005, 62.885000000000005, 62.885000000000005, 62.885000000000005, 62.885000000000005, 62.885000000000005, 62.885000000000005, 62.885000000000005, 62.885000000000005, 62.885000000000005, 62.885000000000005, 62.885000000000005, 62.885000000000005, 62.885000000000005, 62.885000000000005, 62.885000000000005, 62.885000000000005, 62.885000000000005, 62.885000000000005, 62.885000000000005]}],\n",
              "                        {\"autosize\": true, \"font\": {\"family\": \"Amiri\"}, \"height\": 600, \"margin\": {\"b\": 50, \"l\": 10, \"pad\": 4, \"r\": 50, \"t\": 100}, \"paper_bgcolor\": \"LightSteelBlue\", \"shapes\": [{\"line\": {\"color\": \"black\", \"dash\": \"dot\", \"width\": 3}, \"type\": \"line\", \"x0\": \"2016-12-01\", \"x1\": \"2016-12-01\", \"xref\": \"x\", \"y0\": 0, \"y1\": 1, \"yref\": \"paper\"}], \"template\": {\"data\": {\"bar\": [{\"error_x\": {\"color\": \"#2a3f5f\"}, \"error_y\": {\"color\": \"#2a3f5f\"}, \"marker\": {\"line\": {\"color\": \"#E5ECF6\", \"width\": 0.5}}, \"type\": \"bar\"}], \"barpolar\": [{\"marker\": {\"line\": {\"color\": \"#E5ECF6\", \"width\": 0.5}}, \"type\": \"barpolar\"}], \"carpet\": [{\"aaxis\": {\"endlinecolor\": \"#2a3f5f\", \"gridcolor\": \"white\", \"linecolor\": \"white\", \"minorgridcolor\": \"white\", \"startlinecolor\": \"#2a3f5f\"}, \"baxis\": {\"endlinecolor\": \"#2a3f5f\", \"gridcolor\": \"white\", \"linecolor\": \"white\", \"minorgridcolor\": \"white\", \"startlinecolor\": \"#2a3f5f\"}, \"type\": \"carpet\"}], \"choropleth\": [{\"colorbar\": {\"outlinewidth\": 0, \"ticks\": \"\"}, \"type\": \"choropleth\"}], \"contour\": [{\"colorbar\": {\"outlinewidth\": 0, \"ticks\": \"\"}, \"colorscale\": [[0.0, \"#0d0887\"], [0.1111111111111111, \"#46039f\"], [0.2222222222222222, \"#7201a8\"], [0.3333333333333333, \"#9c179e\"], [0.4444444444444444, \"#bd3786\"], [0.5555555555555556, \"#d8576b\"], [0.6666666666666666, \"#ed7953\"], [0.7777777777777778, \"#fb9f3a\"], [0.8888888888888888, \"#fdca26\"], [1.0, \"#f0f921\"]], \"type\": \"contour\"}], \"contourcarpet\": [{\"colorbar\": {\"outlinewidth\": 0, \"ticks\": \"\"}, \"type\": \"contourcarpet\"}], \"heatmap\": [{\"colorbar\": {\"outlinewidth\": 0, \"ticks\": \"\"}, \"colorscale\": [[0.0, \"#0d0887\"], [0.1111111111111111, \"#46039f\"], [0.2222222222222222, \"#7201a8\"], [0.3333333333333333, \"#9c179e\"], [0.4444444444444444, \"#bd3786\"], [0.5555555555555556, \"#d8576b\"], [0.6666666666666666, \"#ed7953\"], [0.7777777777777778, \"#fb9f3a\"], [0.8888888888888888, \"#fdca26\"], [1.0, \"#f0f921\"]], \"type\": \"heatmap\"}], \"heatmapgl\": [{\"colorbar\": {\"outlinewidth\": 0, \"ticks\": \"\"}, \"colorscale\": [[0.0, \"#0d0887\"], [0.1111111111111111, \"#46039f\"], [0.2222222222222222, \"#7201a8\"], [0.3333333333333333, \"#9c179e\"], [0.4444444444444444, \"#bd3786\"], [0.5555555555555556, \"#d8576b\"], [0.6666666666666666, \"#ed7953\"], [0.7777777777777778, \"#fb9f3a\"], [0.8888888888888888, \"#fdca26\"], [1.0, \"#f0f921\"]], \"type\": \"heatmapgl\"}], \"histogram\": [{\"marker\": {\"colorbar\": {\"outlinewidth\": 0, \"ticks\": \"\"}}, \"type\": \"histogram\"}], \"histogram2d\": [{\"colorbar\": {\"outlinewidth\": 0, \"ticks\": \"\"}, \"colorscale\": [[0.0, \"#0d0887\"], [0.1111111111111111, \"#46039f\"], [0.2222222222222222, \"#7201a8\"], [0.3333333333333333, \"#9c179e\"], [0.4444444444444444, \"#bd3786\"], [0.5555555555555556, \"#d8576b\"], [0.6666666666666666, \"#ed7953\"], [0.7777777777777778, \"#fb9f3a\"], [0.8888888888888888, \"#fdca26\"], [1.0, \"#f0f921\"]], \"type\": \"histogram2d\"}], \"histogram2dcontour\": [{\"colorbar\": {\"outlinewidth\": 0, \"ticks\": \"\"}, \"colorscale\": [[0.0, \"#0d0887\"], [0.1111111111111111, \"#46039f\"], [0.2222222222222222, \"#7201a8\"], [0.3333333333333333, \"#9c179e\"], [0.4444444444444444, \"#bd3786\"], [0.5555555555555556, \"#d8576b\"], [0.6666666666666666, \"#ed7953\"], [0.7777777777777778, \"#fb9f3a\"], [0.8888888888888888, \"#fdca26\"], [1.0, \"#f0f921\"]], \"type\": \"histogram2dcontour\"}], \"mesh3d\": [{\"colorbar\": {\"outlinewidth\": 0, \"ticks\": \"\"}, \"type\": \"mesh3d\"}], \"parcoords\": [{\"line\": {\"colorbar\": {\"outlinewidth\": 0, \"ticks\": \"\"}}, \"type\": \"parcoords\"}], \"pie\": [{\"automargin\": true, \"type\": \"pie\"}], \"scatter\": [{\"marker\": {\"colorbar\": {\"outlinewidth\": 0, \"ticks\": \"\"}}, \"type\": \"scatter\"}], \"scatter3d\": [{\"line\": {\"colorbar\": {\"outlinewidth\": 0, \"ticks\": \"\"}}, \"marker\": {\"colorbar\": {\"outlinewidth\": 0, \"ticks\": \"\"}}, \"type\": \"scatter3d\"}], \"scattercarpet\": [{\"marker\": {\"colorbar\": {\"outlinewidth\": 0, \"ticks\": \"\"}}, \"type\": \"scattercarpet\"}], \"scattergeo\": [{\"marker\": {\"colorbar\": {\"outlinewidth\": 0, \"ticks\": \"\"}}, \"type\": \"scattergeo\"}], \"scattergl\": [{\"marker\": {\"colorbar\": {\"outlinewidth\": 0, \"ticks\": \"\"}}, \"type\": \"scattergl\"}], \"scattermapbox\": [{\"marker\": {\"colorbar\": {\"outlinewidth\": 0, \"ticks\": \"\"}}, \"type\": \"scattermapbox\"}], \"scatterpolar\": [{\"marker\": {\"colorbar\": {\"outlinewidth\": 0, \"ticks\": \"\"}}, \"type\": \"scatterpolar\"}], \"scatterpolargl\": [{\"marker\": {\"colorbar\": {\"outlinewidth\": 0, \"ticks\": \"\"}}, \"type\": \"scatterpolargl\"}], \"scatterternary\": [{\"marker\": {\"colorbar\": {\"outlinewidth\": 0, \"ticks\": \"\"}}, \"type\": \"scatterternary\"}], \"surface\": [{\"colorbar\": {\"outlinewidth\": 0, \"ticks\": \"\"}, \"colorscale\": [[0.0, \"#0d0887\"], [0.1111111111111111, \"#46039f\"], [0.2222222222222222, \"#7201a8\"], [0.3333333333333333, \"#9c179e\"], [0.4444444444444444, \"#bd3786\"], [0.5555555555555556, \"#d8576b\"], [0.6666666666666666, \"#ed7953\"], [0.7777777777777778, \"#fb9f3a\"], [0.8888888888888888, \"#fdca26\"], [1.0, \"#f0f921\"]], \"type\": \"surface\"}], \"table\": [{\"cells\": {\"fill\": {\"color\": \"#EBF0F8\"}, \"line\": {\"color\": \"white\"}}, \"header\": {\"fill\": {\"color\": \"#C8D4E3\"}, \"line\": {\"color\": \"white\"}}, \"type\": \"table\"}]}, \"layout\": {\"annotationdefaults\": {\"arrowcolor\": \"#2a3f5f\", \"arrowhead\": 0, \"arrowwidth\": 1}, \"coloraxis\": {\"colorbar\": {\"outlinewidth\": 0, \"ticks\": \"\"}}, \"colorscale\": {\"diverging\": [[0, \"#8e0152\"], [0.1, \"#c51b7d\"], [0.2, \"#de77ae\"], [0.3, \"#f1b6da\"], [0.4, \"#fde0ef\"], [0.5, \"#f7f7f7\"], [0.6, \"#e6f5d0\"], [0.7, \"#b8e186\"], [0.8, \"#7fbc41\"], [0.9, \"#4d9221\"], [1, \"#276419\"]], \"sequential\": [[0.0, \"#0d0887\"], [0.1111111111111111, \"#46039f\"], [0.2222222222222222, \"#7201a8\"], [0.3333333333333333, \"#9c179e\"], [0.4444444444444444, \"#bd3786\"], [0.5555555555555556, \"#d8576b\"], [0.6666666666666666, \"#ed7953\"], [0.7777777777777778, \"#fb9f3a\"], [0.8888888888888888, \"#fdca26\"], [1.0, \"#f0f921\"]], \"sequentialminus\": [[0.0, \"#0d0887\"], [0.1111111111111111, \"#46039f\"], [0.2222222222222222, \"#7201a8\"], [0.3333333333333333, \"#9c179e\"], [0.4444444444444444, \"#bd3786\"], [0.5555555555555556, \"#d8576b\"], [0.6666666666666666, \"#ed7953\"], [0.7777777777777778, \"#fb9f3a\"], [0.8888888888888888, \"#fdca26\"], [1.0, \"#f0f921\"]]}, \"colorway\": [\"#636efa\", \"#EF553B\", \"#00cc96\", \"#ab63fa\", \"#FFA15A\", \"#19d3f3\", \"#FF6692\", \"#B6E880\", \"#FF97FF\", \"#FECB52\"], \"font\": {\"color\": \"#2a3f5f\"}, \"geo\": {\"bgcolor\": \"white\", \"lakecolor\": \"white\", \"landcolor\": \"#E5ECF6\", \"showlakes\": true, \"showland\": true, \"subunitcolor\": \"white\"}, \"hoverlabel\": {\"align\": \"left\"}, \"hovermode\": \"closest\", \"mapbox\": {\"style\": \"light\"}, \"paper_bgcolor\": \"white\", \"plot_bgcolor\": \"#E5ECF6\", \"polar\": {\"angularaxis\": {\"gridcolor\": \"white\", \"linecolor\": \"white\", \"ticks\": \"\"}, \"bgcolor\": \"#E5ECF6\", \"radialaxis\": {\"gridcolor\": \"white\", \"linecolor\": \"white\", \"ticks\": \"\"}}, \"scene\": {\"xaxis\": {\"backgroundcolor\": \"#E5ECF6\", \"gridcolor\": \"white\", \"gridwidth\": 2, \"linecolor\": \"white\", \"showbackground\": true, \"ticks\": \"\", \"zerolinecolor\": \"white\"}, \"yaxis\": {\"backgroundcolor\": \"#E5ECF6\", \"gridcolor\": \"white\", \"gridwidth\": 2, \"linecolor\": \"white\", \"showbackground\": true, \"ticks\": \"\", \"zerolinecolor\": \"white\"}, \"zaxis\": {\"backgroundcolor\": \"#E5ECF6\", \"gridcolor\": \"white\", \"gridwidth\": 2, \"linecolor\": \"white\", \"showbackground\": true, \"ticks\": \"\", \"zerolinecolor\": \"white\"}}, \"shapedefaults\": {\"line\": {\"color\": \"#2a3f5f\"}}, \"ternary\": {\"aaxis\": {\"gridcolor\": \"white\", \"linecolor\": \"white\", \"ticks\": \"\"}, \"baxis\": {\"gridcolor\": \"white\", \"linecolor\": \"white\", \"ticks\": \"\"}, \"bgcolor\": \"#E5ECF6\", \"caxis\": {\"gridcolor\": \"white\", \"linecolor\": \"white\", \"ticks\": \"\"}}, \"title\": {\"x\": 0.05}, \"xaxis\": {\"automargin\": true, \"gridcolor\": \"white\", \"linecolor\": \"white\", \"ticks\": \"\", \"title\": {\"standoff\": 15}, \"zerolinecolor\": \"white\", \"zerolinewidth\": 2}, \"yaxis\": {\"automargin\": true, \"gridcolor\": \"white\", \"linecolor\": \"white\", \"ticks\": \"\", \"title\": {\"standoff\": 15}, \"zerolinecolor\": \"white\", \"zerolinewidth\": 2}}}, \"title\": {\"text\": \"Labor Force Participation, April 2020\"}, \"xaxis\": {\"title\": {\"text\": \"Date\"}}, \"yaxis\": {\"title\": {\"text\": \"% Participation\"}}},\n",
              "                        {\"responsive\": true}\n",
              "                    ).then(function(){\n",
              "                            \n",
              "var gd = document.getElementById('3d4648b5-5f79-4d15-8aad-b87f18cc9375');\n",
              "var x = new MutationObserver(function (mutations, observer) {{\n",
              "        var display = window.getComputedStyle(gd).display;\n",
              "        if (!display || display === 'none') {{\n",
              "            console.log([gd, 'removed!']);\n",
              "            Plotly.purge(gd);\n",
              "            observer.disconnect();\n",
              "        }}\n",
              "}});\n",
              "\n",
              "// Listen for the removal of the full notebook cells\n",
              "var notebookContainer = gd.closest('#notebook-container');\n",
              "if (notebookContainer) {{\n",
              "    x.observe(notebookContainer, {childList: true});\n",
              "}}\n",
              "\n",
              "// Listen for the clearing of the current output cell\n",
              "var outputEl = gd.closest('.output');\n",
              "if (outputEl) {{\n",
              "    x.observe(outputEl, {childList: true});\n",
              "}}\n",
              "\n",
              "                        })\n",
              "                };\n",
              "                \n",
              "            </script>\n",
              "        </div>\n",
              "</body>\n",
              "</html>"
            ]
          },
          "metadata": {
            "tags": []
          }
        }
      ]
    },
    {
      "cell_type": "markdown",
      "metadata": {
        "id": "4b2Vg5LerKFf",
        "colab_type": "text"
      },
      "source": [
        "# Congratulations, you have completed the tutorial. "
      ]
    },
    {
      "cell_type": "markdown",
      "metadata": {
        "id": "O6waJGDpvUlC",
        "colab_type": "text"
      },
      "source": [
        "Thanks for your time, stay in touch - @Tjido"
      ]
    }
  ]
}